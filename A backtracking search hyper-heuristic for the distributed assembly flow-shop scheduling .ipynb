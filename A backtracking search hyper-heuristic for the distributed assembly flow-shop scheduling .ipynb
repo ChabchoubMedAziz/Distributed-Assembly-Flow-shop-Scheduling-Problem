{
 "cells": [
  {
   "cell_type": "code",
   "execution_count": 1,
   "metadata": {
    "id": "0wUanTGcjXzz"
   },
   "outputs": [],
   "source": [
    "#initialization of input \n",
    "import random \n",
    "\n",
    "class Input:\n",
    "  def __init__(self,number_of_factories , number_of_machines, number_of_jobs, number_of_products , time_unit_of_assembly) : \n",
    "    self.number_of_factories = number_of_factories\n",
    "    self.number_of_machines =  number_of_machines\n",
    "    self.number_of_jobs = number_of_jobs\n",
    "    self.number_of_products = number_of_products \n",
    "    self.time_unit_of_assembly = time_unit_of_assembly \n",
    "    # set of jobs J \n",
    "    self.J = [[0]*number_of_machines]*number_of_jobs\n",
    "    #each job is an array of m numbers, which every number represesnts the time of the operation performed by the correspondant machine\n",
    "    #for n in range(number_of_jobs) : \n",
    "    #  j = []\n",
    "     # for i in range(number_of_machines): \n",
    "      #  j.append(random.randint(0, max_op_time))\n",
    "      #self.J.append(j)\n",
    "    \n",
    "    #set of products \n",
    "    self.P = [[0]]*number_of_products\n",
    "    #each product is an array, every value is the number of the job in the set J \n"
   ]
  },
  {
   "cell_type": "code",
   "execution_count": 2,
   "metadata": {
    "id": "kurvHyOAL1xx"
   },
   "outputs": [],
   "source": [
    "def clc_makespan(inputx,products_sequence):\n",
    "\n",
    "  total_cost_so_far = 0 \n",
    "  \n",
    "  #cost by product  \n",
    "  for p in products_sequence: \n",
    "    cost_of_production_per_job = [0]*len(inputx.P[p])\n",
    "    cost_of_production = 0 \n",
    "    for j in range(len(inputx.P[p])):\n",
    "      job = inputx.P[p][j]\n",
    "      cost_of_production_per_job[j] = sum(inputx.J[job])\n",
    "    cost_of_production = max(cost_of_production_per_job)\n",
    "    if (total_cost_so_far == 0 ): \n",
    "      total_cost_so_far = cost_of_production + inputx.time_unit_of_assembly\n",
    "    else : \n",
    "      if ( cost_of_production < total_cost_so_far ) : \n",
    "        total_cost_so_far = total_cost_so_far + inputx.time_unit_of_assembly\n",
    "      else : \n",
    "        total_cost_so_far = total_cost_so_far + inputx.time_unit_of_assembly + (cost_of_production - total_cost_so_far)\n",
    "\n",
    "  return total_cost_so_far"
   ]
  },
  {
   "cell_type": "code",
   "execution_count": 3,
   "metadata": {
    "id": "NAU5Na5QskS2"
   },
   "outputs": [],
   "source": [
    "input1 = Input(4,3,4,4,3)"
   ]
  },
  {
   "cell_type": "code",
   "execution_count": 4,
   "metadata": {
    "colab": {
     "base_uri": "https://localhost:8080/"
    },
    "id": "h43sf19CssEj",
    "outputId": "9b0274e7-169e-4a47-d22e-0bdb58bbf7ea"
   },
   "outputs": [
    {
     "data": {
      "text/plain": [
       "[[0, 0, 0], [0, 0, 0], [0, 0, 0], [0, 0, 0]]"
      ]
     },
     "execution_count": 4,
     "metadata": {},
     "output_type": "execute_result"
    }
   ],
   "source": [
    "input1.J"
   ]
  },
  {
   "cell_type": "code",
   "execution_count": 5,
   "metadata": {
    "colab": {
     "base_uri": "https://localhost:8080/"
    },
    "id": "HMZzCgeOBRy6",
    "outputId": "3bfc8b01-edb7-4b27-9d88-cc597d518f0d"
   },
   "outputs": [
    {
     "data": {
      "text/plain": [
       "[[0, 4, 2], [1, 5, 2], [4, 4, 2], [0, 4, 2]]"
      ]
     },
     "execution_count": 5,
     "metadata": {},
     "output_type": "execute_result"
    }
   ],
   "source": [
    "input1.J= [[0,4,2], [1,5,2],[4,4,2],[0,4,2]]\n",
    "input1.J"
   ]
  },
  {
   "cell_type": "code",
   "execution_count": 6,
   "metadata": {
    "colab": {
     "base_uri": "https://localhost:8080/"
    },
    "id": "m_IjaNX9Bh15",
    "outputId": "8ffbd124-1792-45ca-cc9d-f1e378135047"
   },
   "outputs": [
    {
     "data": {
      "text/plain": [
       "[[0], [0], [0], [0]]"
      ]
     },
     "execution_count": 6,
     "metadata": {},
     "output_type": "execute_result"
    }
   ],
   "source": [
    "input1.P"
   ]
  },
  {
   "cell_type": "code",
   "execution_count": 7,
   "metadata": {
    "colab": {
     "base_uri": "https://localhost:8080/"
    },
    "id": "jVD8nzqmBkdU",
    "outputId": "8092c165-d1df-4586-82bf-de20ea7f0ef0"
   },
   "outputs": [
    {
     "data": {
      "text/plain": [
       "[[0, 1], [2, 3], [3, 0], [1, 3]]"
      ]
     },
     "execution_count": 7,
     "metadata": {},
     "output_type": "execute_result"
    }
   ],
   "source": [
    "input1.P = [[0,1],[2,3],[3,0],[1,3]]\n",
    "input1.P"
   ]
  },
  {
   "cell_type": "code",
   "execution_count": 25,
   "metadata": {
    "colab": {
     "base_uri": "https://localhost:8080/"
    },
    "id": "GoIlXucWB_nR",
    "outputId": "8fb1ed64-00bd-4825-8e65-0062c1ef0ed5"
   },
   "outputs": [
    {
     "name": "stdout",
     "output_type": "stream",
     "text": [
      "22 20\n"
     ]
    }
   ],
   "source": [
    "makespan1 = clc_makespan(input1, [1,2 ,3,0])\n",
    "makespan2 = clc_makespan(input1, [0,1 ,3,2])\n",
    "print(makespan1, makespan2)\n"
   ]
  },
  {
   "cell_type": "code",
   "execution_count": 26,
   "metadata": {
    "id": "N6d-RC1YAJcZ"
   },
   "outputs": [],
   "source": [
    "import random \n",
    "def generate_random_sequence_for_initialization(S, D):\n",
    "  res = []\n",
    "  for j in range(S):\n",
    "    local_res = []\n",
    "    c = [i for i in range(D)]\n",
    "    while (len(c) > 0 ):\n",
    "      item = random.choice(c)\n",
    "      local_res.append(item)\n",
    "      c.remove(item)\n",
    "    res.append(local_res)\n",
    "  return res\n",
    "\n",
    "\n",
    "population = generate_random_sequence_for_initialization(4,5)\n",
    "oldpopulation = generate_random_sequence_for_initialization(4,5)\n",
    "\n"
   ]
  },
  {
   "cell_type": "code",
   "execution_count": 27,
   "metadata": {
    "colab": {
     "base_uri": "https://localhost:8080/"
    },
    "id": "_t1u1biTO6Uw",
    "outputId": "77a7dbfd-8a11-41f3-ab33-7fd3be2f2b2f"
   },
   "outputs": [
    {
     "name": "stdout",
     "output_type": "stream",
     "text": [
      "[[3, 4, 2, 0, 1], [3, 0, 1, 2, 4], [1, 2, 0, 4, 3], [2, 1, 0, 3, 4]]\n"
     ]
    }
   ],
   "source": [
    "print(population)"
   ]
  },
  {
   "cell_type": "code",
   "execution_count": 28,
   "metadata": {
    "colab": {
     "base_uri": "https://localhost:8080/"
    },
    "id": "F1ZSoehAPEmV",
    "outputId": "c78616c8-fa67-483c-d71d-e49b9dc2e9b6"
   },
   "outputs": [
    {
     "data": {
      "text/plain": [
       "[[1, 2, 0, 3, 4], [3, 2, 4, 0, 1], [3, 1, 0, 4, 2], [3, 1, 0, 4, 2]]"
      ]
     },
     "execution_count": 28,
     "metadata": {},
     "output_type": "execute_result"
    }
   ],
   "source": [
    "oldpopulation"
   ]
  },
  {
   "cell_type": "code",
   "execution_count": 29,
   "metadata": {
    "id": "_2wjAQCsSAiv"
   },
   "outputs": [],
   "source": [
    "def two_random_values():\n",
    "  a= random.choice(range(2))\n",
    "  b = random.choice(range(2))\n",
    "  if ( a < b ) : return False\n",
    "  else : return True\n"
   ]
  },
  {
   "cell_type": "code",
   "execution_count": 30,
   "metadata": {
    "id": "NSv8uRuCr9TM"
   },
   "outputs": [],
   "source": [
    "#heuristic functions \n",
    "def Product_Swap(sequence):\n",
    "  a= len(sequence)-1 \n",
    "  while (a == len(sequence) -1 ) : \n",
    "    a = random.choice(range(len(sequence))) \n",
    "  b = random.choice(range(a ,len(sequence)))\n",
    "  x = sequence[a]\n",
    "  sequence[a] = sequence[b]\n",
    "  sequence[b] = x\n",
    "  return sequence \n",
    "\n",
    "def Proudct_Forward_Insert(sequence): \n",
    "  a = 0 \n",
    "  while ( a ==0) or ( a == len(sequence) -1 ):\n",
    "    a = random.choice(range(len(sequence))) \n",
    "  b = random.choice(range(a ,len(sequence)))\n",
    "  c = random.choice(range(a)) \n",
    "  x = sequence[b] \n",
    "  sequence.pop(b)\n",
    "  sequence.insert(c,x)\n",
    "  return sequence\n",
    "\n",
    "def Proudct_Backward_Insert(sequence):\n",
    "  a= len(sequence) -1\n",
    "  while (a == len(sequence) -1 ) : \n",
    "    a = random.choice(range(len(sequence)))  \n",
    "  b = random.choice(range(a ,len(sequence)))\n",
    "  c = random.choice(range(b, len(sequence) )) \n",
    "  x = sequence[a] \n",
    "  sequence.pop(a)\n",
    "  sequence.insert(c,x)\n",
    "  return sequence\n",
    "\n",
    "def Product_Inverse(sequence): \n",
    "  a= len(sequence) -1\n",
    "  while (a == len(sequence) -1 ) : \n",
    "    a = random.choice(range(len(sequence))) \n",
    "  b = random.choice(range(a ,len(sequence)))\n",
    "  sublist1 = sequence[:a]\n",
    "  sublist2 = sequence[a:b+1]\n",
    "  sublist2.reverse()\n",
    "  sublist3 = sequence[b+1:]\n",
    "  res = sublist1 + sublist2 + sublist3\n",
    "  return res\n",
    "\n",
    "def Product_Adjacent_Swap(sequence): \n",
    "  a = len(sequence) -1\n",
    "  while (a == len(sequence) -1 ):\n",
    "    a =  random.choice(range(len(sequence))) \n",
    "  x = sequence[a]\n",
    "  sequence[a] = sequence[a+1]\n",
    "  sequence[a+1] = x\n",
    "  return sequence \n"
   ]
  },
  {
   "cell_type": "code",
   "execution_count": 31,
   "metadata": {
    "id": "RCmJHYQqy0qo"
   },
   "outputs": [],
   "source": [
    "def Apply_corres_heuristic(number_of_heuristic, product_sequence): \n",
    "  if number_of_heuristic==0 : return Product_Swap(product_sequence)\n",
    "  if number_of_heuristic==1 : return Proudct_Forward_Insert(product_sequence)\n",
    "  if number_of_heuristic==2 : return Proudct_Backward_Insert(product_sequence)\n",
    "  if number_of_heuristic==3: return Product_Inverse(product_sequence)\n",
    "  if number_of_heuristic==4: return Product_Adjacent_Swap(product_sequence)\n",
    "\n",
    "\n"
   ]
  },
  {
   "cell_type": "markdown",
   "metadata": {
    "id": "OxLxoIgs6W0Y"
   },
   "source": [
    "The BTS search alog is used to find the optimal sequence of heuristics that generates the near optimal solution.\n",
    "each individual is a sequence of heuristics \n",
    "a population is a set of individuals \n",
    "S : the size of population \n",
    "D : the problem dimension , in this case, 5 since we have 5 heuristics to be used "
   ]
  },
  {
   "cell_type": "code",
   "execution_count": 32,
   "metadata": {
    "id": "KMYzt6O_WcRc"
   },
   "outputs": [],
   "source": [
    "def BTSalgo(inputx,S, D, F,rmix,first_prod_seq):\n",
    "  print(\"First prod sequence is : \" , first_prod_seq)\n",
    "  first_makespan = clc_makespan(inputx , first_prod_seq)\n",
    "  print(\"intial makespan is : \" , first_makespan )\n",
    "  #initialization  of population and old population\n",
    "  population = generate_random_sequence_for_initialization(S,D)\n",
    "  oldPopulation = generate_random_sequence_for_initialization(S,D) \n",
    "  #intialize map \n",
    "  map =[[1]*D]*S\n",
    "  #initialize best solution \n",
    "  best_prod_seq = first_prod_seq\n",
    "  best_makespan = clc_makespan(inputx, first_prod_seq)\n",
    "  iter=0\n",
    "  while ( iter< 3): \n",
    "    print(\"This is iteraton number : \" , iter)\n",
    "    #selection I \n",
    "    if two_random_values() : random.shuffle(oldPopulation)\n",
    "    else : oldPopulation = population \n",
    "    #calculate the binary integer_value matrix map\n",
    "    #mutation \n",
    "    #generate the first trialP\n",
    "    res = []\n",
    "    muP = [[0]*D]*S\n",
    "    for i in range(S):\n",
    "      for j in range(D):\n",
    "        muP[i][j] = population[i][j] + F*(oldPopulation[i][j] - population[i][j])\n",
    "    #crossover \n",
    "    if two_random_values() : \n",
    "      for j in range(S): \n",
    "         U= [i for i in range(D)]\n",
    "         c = random.choice(range(2))\n",
    "         random.shuffle(U)\n",
    "         x = U[1:c*rmix]\n",
    "         for l in x : map[j][l] = 0\n",
    "    else : \n",
    "      for j in range(S): \n",
    "        k = random.choice(range(D))\n",
    "        map[j][k] = 0 \n",
    "    #step 2 \n",
    "    for i in range(S):\n",
    "      for j in range(D): \n",
    "        if map[i][j] == 1 : muP[i][j] = population[i][j]\n",
    "    #generate the final trialP \n",
    "    for i in range(S):\n",
    "      for j in range(D): \n",
    "        if (muP[i][j] > D) : muP[i][j] = D\n",
    "        else : \n",
    "          if (muP[i][j] < 1 ): muP[i][j] = 1\n",
    "    for seq in muP :\n",
    "      acc_sol = best_prod_seq\n",
    "      for s in seq : \n",
    "        acc_sol = Apply_corres_heuristic(s,acc_sol)\n",
    "      print(\" accurate prod sequence \" , acc_sol)\n",
    "      acc_makespan = clc_makespan(inputx,acc_sol)\n",
    "      print(\"accurate makespan : \", acc_makespan)\n",
    "      if acc_makespan < best_makespan : \n",
    "        best_prod_seq = acc_sol\n",
    "        best_makespan = clc_makespan(inputx, best_prod_seq)\n",
    "    iter = iter+1 \n",
    "  print(\"Best product sequence is \" , best_prod_seq , \"with the best makespan\" , best_makespan )\n",
    "\n",
    "\n",
    "\n"
   ]
  },
  {
   "cell_type": "code",
   "execution_count": 34,
   "metadata": {
    "colab": {
     "base_uri": "https://localhost:8080/"
    },
    "id": "1MdGlIfldVEP",
    "outputId": "af47a178-226c-40e9-b8a9-1be494b61159"
   },
   "outputs": [
    {
     "name": "stdout",
     "output_type": "stream",
     "text": [
      "First prod sequence is :  [0, 1, 2, 3]\n",
      "intial makespan is :  20\n",
      "This is iteraton number :  0\n",
      " accurate prod sequence  [3, 0, 1, 2]\n",
      "accurate makespan :  20\n",
      " accurate prod sequence  [1, 3, 0, 2]\n",
      "accurate makespan :  22\n",
      "This is iteraton number :  1\n",
      " accurate prod sequence  [2, 1, 3, 0]\n",
      "accurate makespan :  19\n",
      " accurate prod sequence  [2, 3, 1, 0]\n",
      "accurate makespan :  18\n",
      "This is iteraton number :  2\n",
      " accurate prod sequence  [0, 1, 2, 3]\n",
      "accurate makespan :  20\n",
      " accurate prod sequence  [1, 2, 3, 0]\n",
      "accurate makespan :  22\n",
      "Best product sequence is  [0, 3, 2, 1] with the best makespan 18\n"
     ]
    }
   ],
   "source": [
    "BTSalgo(input1,2,5,4,1,[0,1,2,3])\n"
   ]
  }
 ],
 "metadata": {
  "colab": {
   "provenance": []
  },
  "kernelspec": {
   "display_name": "Python 3 (ipykernel)",
   "language": "python",
   "name": "python3"
  },
  "language_info": {
   "codemirror_mode": {
    "name": "ipython",
    "version": 3
   },
   "file_extension": ".py",
   "mimetype": "text/x-python",
   "name": "python",
   "nbconvert_exporter": "python",
   "pygments_lexer": "ipython3",
   "version": "3.8.5"
  }
 },
 "nbformat": 4,
 "nbformat_minor": 1
}
