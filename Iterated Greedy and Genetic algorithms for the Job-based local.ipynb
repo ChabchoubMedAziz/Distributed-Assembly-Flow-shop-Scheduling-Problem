{
 "cells": [
  {
   "cell_type": "markdown",
   "id": "3fa640e9",
   "metadata": {},
   "source": [
    "### iterated greedy method for the distributed permutation flowshop scheduling problem can be modified to handle multiple factories"
   ]
  },
  {
   "cell_type": "code",
   "execution_count": 5,
   "id": "6b8bef5b",
   "metadata": {},
   "outputs": [
    {
     "name": "stdout",
     "output_type": "stream",
     "text": [
      "[[[1 3 6 2 5]\n",
      "  [1 8 2 7 4]\n",
      "  [8 5 8 7 7]]\n",
      "\n",
      " [[7 6 6 2 2]\n",
      "  [7 4 5 1 7]\n",
      "  [2 8 9 8 9]]]\n",
      "Best permutation: [0 3 4 2 1]\n",
      "Best makespan: 45.0\n"
     ]
    }
   ],
   "source": [
    "import numpy as np\n",
    "\n",
    "# define the number of machines and jobs\n",
    "num_factories = 2\n",
    "num_machines = 3\n",
    "num_jobs = 5\n",
    "\n",
    "# define the processing time for each job on each machine at each factory\n",
    "processing_times = np.random.randint(low=1, high=10, size=(num_factories, num_machines, num_jobs))\n",
    "print(processing_times)\n",
    "# define the initial permutation of jobs\n",
    "permutation = np.random.permutation(num_jobs)\n",
    "\n",
    "# iterated greedy method to find the optimal permutation\n",
    "best_makespan = np.inf\n",
    "best_permutation = permutation\n",
    "for i in range(num_jobs):\n",
    "    for j in range(i+1, num_jobs):\n",
    "        # swap jobs i and j in the permutation\n",
    "        permutation[[i,j]] = permutation[[j,i]]\n",
    "\n",
    "        # calculate the makespan for the current permutation\n",
    "        makespan = np.zeros((num_factories, num_machines))\n",
    "        for f in range(num_factories):\n",
    "            for k in range(num_jobs):\n",
    "                job = permutation[k]\n",
    "                makespan[f, 0] += processing_times[f, 0, job]\n",
    "                for m in range(1, num_machines):\n",
    "                    makespan[f, m] = max(makespan[f, m], makespan[f, m-1]) + processing_times[f, m, job]\n",
    "        total_makespan = max(makespan[:,-1])\n",
    "        # check if the current permutation is better than the previous best\n",
    "        if total_makespan < best_makespan:\n",
    "            best_permutation = permutation\n",
    "            best_makespan = total_makespan\n",
    "\n",
    "        # swap jobs i and j back in the permutation\n",
    "        permutation[[i,j]] = permutation[[j,i]]\n",
    "\n",
    "# print the best permutation and makespan\n",
    "print(\"Best permutation:\", best_permutation)\n",
    "print(\"Best makespan:\", best_makespan)"
   ]
  },
  {
   "cell_type": "markdown",
   "id": "4835c4bb",
   "metadata": {},
   "source": [
    "### Scheduling the distributed assembly flowshop problem to minimize the makespan using genetic algorithms"
   ]
  },
  {
   "cell_type": "markdown",
   "id": "b1fcbffb",
   "metadata": {},
   "source": [
    "## bounded-search iterated greedy algorithm BSIG and four local search methods are designed to improve solution quality."
   ]
  },
  {
   "cell_type": "code",
   "execution_count": 11,
   "id": "cbb71914",
   "metadata": {
    "scrolled": true
   },
   "outputs": [
    {
     "name": "stdout",
     "output_type": "stream",
     "text": [
      "gen\tnevals\tavg  \tstd   \tmin\tmax\n",
      "0  \t50    \t42.46\t1.9719\t39 \t46 \n",
      "1  \t32    \t40.58\t1.84488\t39 \t45 \n",
      "2  \t30    \t39.64\t1.35292\t39 \t44 \n",
      "3  \t30    \t39.58\t1.66241\t39 \t46 \n",
      "4  \t31    \t39.42\t1.25044\t39 \t45 \n",
      "5  \t27    \t39.34\t1.29012\t39 \t45 \n",
      "6  \t30    \t39.32\t1.20731\t39 \t45 \n",
      "7  \t27    \t39.56\t1.71067\t39 \t46 \n",
      "8  \t32    \t39.06\t0.42   \t39 \t42 \n",
      "9  \t26    \t39.24\t0.884534\t39 \t43 \n",
      "10 \t25    \t39.36\t1.22898 \t39 \t44 \n",
      "11 \t33    \t39.12\t0.84    \t39 \t45 \n",
      "12 \t26    \t39.04\t0.28    \t39 \t41 \n",
      "13 \t29    \t39.14\t0.693109\t39 \t43 \n",
      "14 \t30    \t39.08\t0.44    \t39 \t42 \n",
      "15 \t25    \t39   \t0       \t39 \t39 \n",
      "16 \t34    \t39.12\t0.620967\t39 \t43 \n",
      "17 \t24    \t39   \t0       \t39 \t39 \n",
      "18 \t27    \t39.08\t0.56    \t39 \t43 \n",
      "19 \t24    \t39.12\t0.84    \t39 \t45 \n",
      "20 \t33    \t39.2 \t0.8     \t39 \t43 \n",
      "21 \t32    \t39   \t0       \t39 \t39 \n",
      "22 \t27    \t39   \t0       \t39 \t39 \n",
      "23 \t23    \t39   \t0       \t39 \t39 \n",
      "24 \t22    \t39.22\t0.878408\t39 \t43 \n",
      "25 \t32    \t39   \t0       \t39 \t39 \n",
      "26 \t30    \t39.32\t1.0284  \t39 \t43 \n",
      "27 \t28    \t39.02\t0.14    \t39 \t40 \n",
      "28 \t29    \t39.08\t0.56    \t39 \t43 \n",
      "29 \t28    \t39.22\t0.878408\t39 \t43 \n",
      "30 \t35    \t39.08\t0.56    \t39 \t43 \n",
      "31 \t27    \t39.22\t0.900888\t39 \t44 \n",
      "32 \t32    \t39.06\t0.42    \t39 \t42 \n",
      "33 \t24    \t39.04\t0.28    \t39 \t41 \n",
      "34 \t23    \t39   \t0       \t39 \t39 \n",
      "35 \t29    \t39.12\t0.84    \t39 \t45 \n",
      "36 \t29    \t39.18\t0.93145 \t39 \t45 \n",
      "37 \t29    \t39.3 \t1.13578 \t39 \t45 \n",
      "38 \t32    \t39.08\t0.56    \t39 \t43 \n",
      "39 \t28    \t39.08\t0.56    \t39 \t43 \n",
      "40 \t29    \t39.2 \t1       \t39 \t45 \n",
      "41 \t26    \t39   \t0       \t39 \t39 \n",
      "42 \t34    \t39.2 \t1       \t39 \t45 \n",
      "43 \t30    \t39.2 \t1       \t39 \t45 \n",
      "44 \t42    \t39.54\t1.52591 \t39 \t45 \n",
      "45 \t34    \t39.5 \t1.48661 \t39 \t45 \n",
      "46 \t26    \t39.08\t0.56    \t39 \t43 \n",
      "47 \t28    \t39.16\t0.88    \t39 \t45 \n",
      "48 \t39    \t39.16\t0.80895 \t39 \t44 \n",
      "49 \t25    \t39.54\t1.52591 \t39 \t45 \n",
      "50 \t29    \t39   \t0       \t39 \t39 \n",
      "Best individual: [2, 3, 1, 4, 0]\n",
      "Makespan: 39.0\n"
     ]
    }
   ],
   "source": [
    "import numpy as np\n",
    "from deap import base, creator, tools,algorithms\n",
    "\n",
    "# define the number of factories, machines, and jobs\n",
    "num_factories = 2\n",
    "num_machines = 3\n",
    "num_jobs = 5\n",
    "\n",
    "# define the processing time for each job on each machine at each factory\n",
    "processing_times = np.random.randint(low=1, high=10, size=(num_factories, num_machines, num_jobs))\n",
    "\n",
    "# define the fitness function\n",
    "def fitness(individual):\n",
    "    makespan = np.zeros((num_factories, num_machines))\n",
    "    for f in range(num_factories):\n",
    "        for i in range(num_jobs):\n",
    "            job = individual[i]\n",
    "            makespan[f, 0] += processing_times[f, 0, job]\n",
    "            for m in range(1, num_machines):\n",
    "                makespan[f, m] = max(makespan[f, m], makespan[f, m-1]) + processing_times[f, m, job]\n",
    "    return max(makespan[:,-1]),\n",
    "\n",
    "# define the genetic algorithm\n",
    "creator.create(\"FitnessMin\", base.Fitness, weights=(-1.0,))\n",
    "creator.create(\"Individual\", list, fitness=creator.FitnessMin)\n",
    "\n",
    "toolbox = base.Toolbox()\n",
    "toolbox.register(\"permutation\", np.random.permutation, num_jobs)\n",
    "toolbox.register(\"individual\", tools.initIterate, creator.Individual, toolbox.permutation)\n",
    "toolbox.register(\"population\", tools.initRepeat, list, toolbox.individual)\n",
    "toolbox.register(\"evaluate\", fitness)\n",
    "toolbox.register(\"mate\", tools.cxPartialyMatched)\n",
    "toolbox.register(\"mutate\", tools.mutShuffleIndexes, indpb=0.05)\n",
    "toolbox.register(\"select\", tools.selTournament, tournsize=3)\n",
    "\n",
    "pop = toolbox.population(n=50)\n",
    "hof = tools.HallOfFame(1)\n",
    "stats = tools.Statistics(lambda ind: ind.fitness.values)\n",
    "stats.register(\"avg\", np.mean)\n",
    "stats.register(\"std\", np.std)\n",
    "stats.register(\"min\", np.min)\n",
    "stats.register(\"max\", np.max)\n",
    "\n",
    "pop, log = algorithms.eaSimple(pop, toolbox, cxpb=0.5, mutpb=0.2, ngen=50, stats=stats, halloffame=hof)\n",
    "\n",
    "# print the best solution\n",
    "print(\"Best individual:\", hof[0])\n",
    "print(\"Makespan:\", fitness(hof[0])[0])"
   ]
  }
 ],
 "metadata": {
  "kernelspec": {
   "display_name": "Python 3 (ipykernel)",
   "language": "python",
   "name": "python3"
  },
  "language_info": {
   "codemirror_mode": {
    "name": "ipython",
    "version": 3
   },
   "file_extension": ".py",
   "mimetype": "text/x-python",
   "name": "python",
   "nbconvert_exporter": "python",
   "pygments_lexer": "ipython3",
   "version": "3.8.5"
  }
 },
 "nbformat": 4,
 "nbformat_minor": 5
}
